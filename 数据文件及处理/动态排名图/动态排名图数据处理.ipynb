{
 "cells": [
  {
   "cell_type": "markdown",
   "id": "5af1f955",
   "metadata": {},
   "source": [
    "动态排名图数据处理"
   ]
  },
  {
   "cell_type": "code",
   "execution_count": 2,
   "id": "f0e8bedc",
   "metadata": {
    "scrolled": false
   },
   "outputs": [
    {
     "name": "stdout",
     "output_type": "stream",
     "text": [
      "已生成月度统计结果.json文件\n"
     ]
    }
   ],
   "source": [
    "import csv\n",
    "from collections import defaultdict\n",
    "import json\n",
    "\n",
    "data = defaultdict(int)\n",
    "\n",
    "for month in range(1, 7):\n",
    "    filename = f\"{month}月最终.csv\"  \n",
    "    with open(filename, 'r') as file:\n",
    "        reader = csv.reader(file)\n",
    "        next(reader) \n",
    "        for row in reader:\n",
    "            date = row[1]\n",
    "            state = row[2]\n",
    "            value = int(row[5]) + int(row[6]) + int(row[7]) + int(row[8])\n",
    "            data[date, state] += value\n",
    "\n",
    "output = []\n",
    "\n",
    "for (date, state), value in data.items():\n",
    "    if date not in output:\n",
    "        output.append(date)\n",
    "        output.append({})\n",
    "\n",
    "    output[output.index(date) + 1][state] = value\n",
    "\n",
    "result = []\n",
    "\n",
    "for i in range(0, len(output), 2):\n",
    "    date = output[i]\n",
    "    values = output[i + 1]\n",
    "    result.append({'date': date, **values})\n",
    "\n",
    "json_output = json.dumps(result, indent=4)\n",
    "\n",
    "output_filename = \"月度统计结果.json\"\n",
    "with open(output_filename, 'w') as output_file:\n",
    "    output_file.write(json_output)\n",
    "\n",
    "print(f\"已生成{output_filename}文件\")\n"
   ]
  },
  {
   "cell_type": "code",
   "execution_count": 3,
   "id": "b9175fd8",
   "metadata": {},
   "outputs": [
    {
     "name": "stdout",
     "output_type": "stream",
     "text": [
      "处理后的数据已写入 月度统计结果（包含所有州）.json 文件。\n"
     ]
    }
   ],
   "source": [
    "import json\n",
    "import copy\n",
    "\n",
    "with open(\"月度统计结果.json\", \"r\") as infile:\n",
    "    data = json.load(infile)\n",
    "\n",
    "# 获取所有州的名称\n",
    "all_states = set()\n",
    "for block in data:\n",
    "    all_states.update(block.keys())\n",
    "\n",
    "# 缺失的州设置为0\n",
    "new_data = copy.deepcopy(data)\n",
    "for block in new_data:\n",
    "    for state in all_states:\n",
    "        block.setdefault(state, 0)\n",
    "\n",
    "with open(\"月度统计结果（包含所有州）.json\", \"w\") as outfile:\n",
    "    json.dump(new_data, outfile, indent=4)\n",
    "\n",
    "print(\"处理后的数据已写入 月度统计结果（包含所有州）.json 文件。\")\n"
   ]
  },
  {
   "cell_type": "code",
   "execution_count": 4,
   "id": "6b932614",
   "metadata": {},
   "outputs": [
    {
     "name": "stdout",
     "output_type": "stream",
     "text": [
      "数据已输出\n"
     ]
    }
   ],
   "source": [
    "import json\n",
    "\n",
    "with open('月度统计结果（包含所有州）.json', 'r') as file:\n",
    "    json_data = json.load(file)\n",
    "\n",
    "# 对每天的数据进行累加\n",
    "for i in range(1, len(json_data)):\n",
    "    current_day_data = json_data[i]\n",
    "    previous_day_data = json_data[i-1]\n",
    "    for state, value in current_day_data.items():\n",
    "        if state != \"date\":\n",
    "            if state in previous_day_data:\n",
    "                current_day_data[state] += previous_day_data[state]\n",
    "\n",
    "with open('月度统计结果累加.json', 'w') as file:\n",
    "    json.dump(json_data, file, indent=4)\n",
    "\n",
    "print(\"数据已输出\")\n"
   ]
  },
  {
   "cell_type": "code",
   "execution_count": null,
   "id": "91c4faa0",
   "metadata": {},
   "outputs": [],
   "source": []
  }
 ],
 "metadata": {
  "kernelspec": {
   "display_name": "Python 3 (ipykernel)",
   "language": "python",
   "name": "python3"
  },
  "language_info": {
   "codemirror_mode": {
    "name": "ipython",
    "version": 3
   },
   "file_extension": ".py",
   "mimetype": "text/x-python",
   "name": "python",
   "nbconvert_exporter": "python",
   "pygments_lexer": "ipython3",
   "version": "3.10.9"
  }
 },
 "nbformat": 4,
 "nbformat_minor": 5
}
