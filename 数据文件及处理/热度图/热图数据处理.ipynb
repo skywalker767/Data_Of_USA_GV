{
 "cells": [
  {
   "cell_type": "markdown",
   "id": "a633dea4",
   "metadata": {},
   "source": [
    "对大规模事件的数据文件进行处理"
   ]
  },
  {
   "cell_type": "code",
   "execution_count": 9,
   "id": "a0dcb8a8",
   "metadata": {},
   "outputs": [
    {
     "name": "stdout",
     "output_type": "stream",
     "text": [
      "{ name: 'Alabama', value: 104 },\n",
      "{ name: 'Alaska', value: 5 },\n",
      "{ name: 'Arizona', value: 46 },\n",
      "{ name: 'Arkansas', value: 44 },\n",
      "{ name: 'California', value: 369 },\n",
      "{ name: 'Colorado', value: 60 },\n",
      "{ name: 'Connecticut', value: 28 },\n",
      "{ name: 'Delaware', value: 18 },\n",
      "{ name: 'District of Columbia', value: 65 },\n",
      "{ name: 'Florida', value: 238 },\n",
      "{ name: 'Georgia', value: 158 },\n",
      "{ name: 'Idaho', value: 2 },\n",
      "{ name: 'Illinois', value: 417 },\n",
      "{ name: 'Indiana', value: 85 },\n",
      "{ name: 'Iowa', value: 18 },\n",
      "{ name: 'Kansas', value: 23 },\n",
      "{ name: 'Kentucky', value: 48 },\n",
      "{ name: 'Louisiana', value: 181 },\n",
      "{ name: 'Maine', value: 3 },\n",
      "{ name: 'Maryland', value: 120 },\n",
      "{ name: 'Massachusetts', value: 34 },\n",
      "{ name: 'Michigan', value: 129 },\n",
      "{ name: 'Minnesota', value: 49 },\n",
      "{ name: 'Mississippi', value: 79 },\n",
      "{ name: 'Missouri', value: 126 },\n",
      "{ name: 'Montana', value: 4 },\n",
      "{ name: 'Nebraska', value: 15 },\n",
      "{ name: 'Nevada', value: 31 },\n",
      "{ name: 'New Hampshire', value: 1 },\n",
      "{ name: 'New Jersey', value: 93 },\n",
      "{ name: 'New Mexico', value: 24 },\n",
      "{ name: 'New York', value: 190 },\n",
      "{ name: 'North Carolina', value: 114 },\n",
      "{ name: 'Ohio', value: 154 },\n",
      "{ name: 'Oklahoma', value: 30 },\n",
      "{ name: 'Oregon', value: 22 },\n",
      "{ name: 'Pennsylvania', value: 191 },\n",
      "{ name: 'Rhode Island', value: 4 },\n",
      "{ name: 'South Carolina', value: 103 },\n",
      "{ name: 'South Dakota', value: 4 },\n",
      "{ name: 'Tennessee', value: 126 },\n",
      "{ name: 'Texas', value: 273 },\n",
      "{ name: 'Utah', value: 6 },\n",
      "{ name: 'Vermont', value: 1 },\n",
      "{ name: 'Virginia', value: 97 },\n",
      "{ name: 'Washington', value: 45 },\n",
      "{ name: 'West Virginia', value: 5 },\n",
      "{ name: 'Wisconsin', value: 53 },\n",
      "{ name: 'Wyoming', value: 1 },\n"
     ]
    }
   ],
   "source": [
    "import pandas as pd\n",
    "import glob\n",
    "\n",
    "def count_states(file_path):\n",
    "    df = pd.read_csv(file_path)\n",
    "    state_counts = df['State'].value_counts().to_dict()\n",
    "    return state_counts\n",
    "\n",
    "csv_files = glob.glob('20*.csv')  # 获取以20开头的csv文件，这里我们需要读取2014-2022大规模枪击案数量\n",
    "\n",
    "total_state_counts = {}\n",
    "\n",
    "for file_path in csv_files:\n",
    "    state_counts = count_states(file_path)\n",
    "    for state, count in state_counts.items():\n",
    "        if state in total_state_counts:\n",
    "            total_state_counts[state] += count\n",
    "        else:\n",
    "            total_state_counts[state] = count\n",
    "sorted_state_counts = sorted(total_state_counts.items(), key=lambda x: x[0])\n",
    "\n",
    "for state, count in sorted_state_counts:\n",
    "    print(f\"{{ name: '{state}', value: {count} }},\")\n"
   ]
  },
  {
   "cell_type": "code",
   "execution_count": null,
   "id": "260971e0",
   "metadata": {},
   "outputs": [],
   "source": []
  },
  {
   "cell_type": "code",
   "execution_count": null,
   "id": "77cc2630",
   "metadata": {},
   "outputs": [],
   "source": []
  }
 ],
 "metadata": {
  "kernelspec": {
   "display_name": "Python 3 (ipykernel)",
   "language": "python",
   "name": "python3"
  },
  "language_info": {
   "codemirror_mode": {
    "name": "ipython",
    "version": 3
   },
   "file_extension": ".py",
   "mimetype": "text/x-python",
   "name": "python",
   "nbconvert_exporter": "python",
   "pygments_lexer": "ipython3",
   "version": "3.10.9"
  }
 },
 "nbformat": 4,
 "nbformat_minor": 5
}
