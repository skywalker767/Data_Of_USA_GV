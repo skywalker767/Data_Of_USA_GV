{
 "cells": [
  {
   "cell_type": "code",
   "execution_count": 1,
   "id": "fc88a756",
   "metadata": {
    "scrolled": true
   },
   "outputs": [
    {
     "name": "stdout",
     "output_type": "stream",
     "text": [
      "结果已保存到文件: output.json\n"
     ]
    }
   ],
   "source": [
    "import csv\n",
    "import json\n",
    "\n",
    "def count_states(file_path):\n",
    "    state_counts = {}\n",
    "    with open(file_path, 'r') as file:\n",
    "        reader = csv.reader(file)\n",
    "        next(reader)\n",
    "        for row in reader:\n",
    "            state = row[2]\n",
    "            if state not in state_counts:\n",
    "                state_counts[state] = 1\n",
    "            else:\n",
    "                state_counts[state] += 1\n",
    "    return state_counts\n",
    "\n",
    "results = []  # 存储结果的列表\n",
    "\n",
    "for i in range(2014, 2023):\n",
    "    file_path = f'{i}大规模.csv'\n",
    "\n",
    "    state_counts = count_states(file_path)\n",
    "\n",
    "    sorted_states = sorted(state_counts.keys())\n",
    "\n",
    "    for state in sorted_states:\n",
    "        count = state_counts[state]\n",
    "        result = [count, state, i]\n",
    "        results.append(result)\n",
    "\n",
    "output_file = 'output.json'\n",
    "\n",
    "with open(output_file, 'w') as file:\n",
    "    json.dump(results, file, indent=4)\n",
    "\n",
    "print(f\"结果已保存到文件: {output_file}\")\n"
   ]
  }
 ],
 "metadata": {
  "kernelspec": {
   "display_name": "Python 3 (ipykernel)",
   "language": "python",
   "name": "python3"
  },
  "language_info": {
   "codemirror_mode": {
    "name": "ipython",
    "version": 3
   },
   "file_extension": ".py",
   "mimetype": "text/x-python",
   "name": "python",
   "nbconvert_exporter": "python",
   "pygments_lexer": "ipython3",
   "version": "3.10.9"
  }
 },
 "nbformat": 4,
 "nbformat_minor": 5
}
