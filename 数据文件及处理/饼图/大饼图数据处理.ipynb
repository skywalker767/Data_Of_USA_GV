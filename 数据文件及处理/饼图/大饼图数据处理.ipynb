{
 "cells": [
  {
   "cell_type": "markdown",
   "id": "780a468a",
   "metadata": {},
   "source": [
    "该图需要：\n",
    "    数组1包含各州名称（实现交互按钮）\n",
    "    数组2包含各州和对应的值\n",
    "涉及文件：\"2022至今校园枪击.csv\""
   ]
  },
  {
   "cell_type": "code",
   "execution_count": 1,
   "id": "fdfa7347",
   "metadata": {},
   "outputs": [
    {
     "name": "stdout",
     "output_type": "stream",
     "text": [
      "{name: 'State', value: 1},\n",
      "{name: 'District of Columbia', value: 7},\n",
      "{name: 'Maryland', value: 58},\n",
      "{name: 'Pennsylvania', value: 50},\n",
      "{name: 'Texas', value: 154},\n",
      "{name: 'Wisconsin', value: 29},\n",
      "{name: 'Virginia', value: 84},\n",
      "{name: 'Michigan', value: 47},\n",
      "{name: 'Utah', value: 14},\n",
      "{name: 'California', value: 79},\n",
      "{name: 'New York', value: 38},\n",
      "{name: 'Indiana', value: 51},\n",
      "{name: 'Arizona', value: 33},\n",
      "{name: 'Hawaii', value: 1},\n",
      "{name: 'North Carolina', value: 105},\n",
      "{name: 'Kentucky', value: 53},\n",
      "{name: 'Ohio', value: 88},\n",
      "{name: 'Missouri', value: 30},\n",
      "{name: 'Massachusetts', value: 13},\n",
      "{name: 'Louisiana', value: 34},\n",
      "{name: 'Alabama', value: 46},\n",
      "{name: 'Florida', value: 136},\n",
      "{name: 'Illinois', value: 52},\n",
      "{name: 'Georgia', value: 90},\n",
      "{name: 'Nevada', value: 31},\n",
      "{name: 'Mississippi', value: 23},\n",
      "{name: 'Nebraska', value: 12},\n",
      "{name: 'New Jersey', value: 9},\n",
      "{name: 'Oklahoma', value: 21},\n",
      "{name: 'South Carolina', value: 78},\n",
      "{name: 'Tennessee', value: 68},\n",
      "{name: 'Washington', value: 20},\n",
      "{name: 'New Hampshire', value: 1},\n",
      "{name: 'Minnesota', value: 30},\n",
      "{name: 'Kansas', value: 16},\n",
      "{name: 'Colorado', value: 26},\n",
      "{name: 'Connecticut', value: 7},\n",
      "{name: 'Arkansas', value: 21},\n",
      "{name: 'New Mexico', value: 20},\n",
      "{name: 'West Virginia', value: 9},\n",
      "{name: 'Iowa', value: 12},\n",
      "{name: 'Alaska', value: 4},\n",
      "{name: 'North Dakota', value: 3},\n",
      "{name: 'Delaware', value: 8},\n",
      "{name: 'Maine', value: 3},\n",
      "{name: 'Oregon', value: 8},\n",
      "{name: 'Wyoming', value: 2},\n",
      "{name: 'Montana', value: 1},\n",
      "{name: 'South Dakota', value: 1},\n"
     ]
    }
   ],
   "source": [
    "import csv\n",
    "import json\n",
    "filename = \"2022至今校园枪击.csv\"\n",
    "\n",
    "def count_states(filename):\n",
    "    state_counts = {}\n",
    "    with open(filename, 'r') as csvfile:\n",
    "        reader = csv.reader(csvfile)\n",
    "        for row in reader:\n",
    "            if len(row) >= 3:\n",
    "                state = row[2].strip()\n",
    "                if state in state_counts:\n",
    "                    state_counts[state] += 1\n",
    "                else:\n",
    "                    state_counts[state] = 1\n",
    "    return state_counts\n",
    "\n",
    "def format_output(state_counts):\n",
    "    output = []\n",
    "    for state, count in state_counts.items():\n",
    "        entry = f\"{{name: '{state}', value: {count}}}\"\n",
    "        output.append(entry)\n",
    "    return output\n",
    "\n",
    "state_counts = count_states(filename)\n",
    "formatted_output = format_output(state_counts)\n",
    "for entry in formatted_output:\n",
    "    print(entry,end=',\\n')\n"
   ]
  },
  {
   "cell_type": "code",
   "execution_count": 38,
   "id": "d709f2cc",
   "metadata": {},
   "outputs": [
    {
     "name": "stdout",
     "output_type": "stream",
     "text": [
      "'Alabama','Alaska','Arizona','Arkansas','California','Colorado','Connecticut','Delaware','District of Columbia','Florida','Georgia','Hawaii','Illinois','Indiana','Iowa','Kansas','Kentucky','Louisiana','Maine','Maryland','Massachusetts','Michigan','Minnesota','Mississippi','Missouri','Montana','Nebraska','Nevada','New Hampshire','New Jersey','New Mexico','New York','North Carolina','North Dakota','Ohio','Oklahoma','Oregon','Pennsylvania','South Carolina','South Dakota','State','Tennessee','Texas','Utah','Virginia','Washington','West Virginia','Wisconsin','Wyoming',"
     ]
    }
   ],
   "source": [
    "import csv\n",
    "import json\n",
    "\n",
    "filename = \"2022至今校园枪击.csv\"\n",
    "\n",
    "def count_states(filename):\n",
    "    state_counts = {}\n",
    "    with open(filename, 'r') as csvfile:\n",
    "        reader = csv.reader(csvfile)\n",
    "        for row in reader:\n",
    "            if len(row) >= 3:\n",
    "                state = row[2].strip()\n",
    "                if state in state_counts:\n",
    "                    state_counts[state] += 1\n",
    "                else:\n",
    "                    state_counts[state] = 1\n",
    "    return state_counts\n",
    "\n",
    "def format_output(state_counts):\n",
    "    output = []\n",
    "    for state, count in state_counts.items():\n",
    "        entry = f\"'{state}'\"\n",
    "        output.append(entry)\n",
    "    output.sort() \n",
    "    return output\n",
    "\n",
    "state_counts = count_states(filename)\n",
    "formatted_output = format_output(state_counts)\n",
    "for entry in formatted_output:\n",
    "    print(entry, end=',')\n"
   ]
  }
 ],
 "metadata": {
  "kernelspec": {
   "display_name": "Python 3 (ipykernel)",
   "language": "python",
   "name": "python3"
  },
  "language_info": {
   "codemirror_mode": {
    "name": "ipython",
    "version": 3
   },
   "file_extension": ".py",
   "mimetype": "text/x-python",
   "name": "python",
   "nbconvert_exporter": "python",
   "pygments_lexer": "ipython3",
   "version": "3.10.9"
  }
 },
 "nbformat": 4,
 "nbformat_minor": 5
}
