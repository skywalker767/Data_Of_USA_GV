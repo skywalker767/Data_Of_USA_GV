{
 "cells": [
  {
   "cell_type": "code",
   "execution_count": 7,
   "id": "325f7617",
   "metadata": {},
   "outputs": [
    {
     "name": "stdout",
     "output_type": "stream",
     "text": [
      "data: [儿童伤亡, 582, 679, 665, 721, 663, 696, 1002, 1065, 994, ]\n",
      "data: [青少年伤亡, 2277, 2699, 3154, 3261, 2883, 3130, 4162, 4653, 5176, ]\n"
     ]
    }
   ],
   "source": [
    "import csv\n",
    "csv_file = '每年死亡分类新.csv'\n",
    "def data1(csv_file):\n",
    "    with open(csv_file, 'r', encoding='utf-8') as file:\n",
    "\n",
    "        reader = csv.reader(file)\n",
    "        rows = list(reader)\n",
    "        fifth_row = rows[1]\n",
    "        output = 'data: [' + ', '.join(fifth_row) + ']'\n",
    "        return output\n",
    "def data2(csv_file):\n",
    "    with open(csv_file, 'r', encoding='utf-8') as file:\n",
    "\n",
    "        reader = csv.reader(file)\n",
    "        rows = list(reader)\n",
    "        fifth_row = rows[2]\n",
    "        output = 'data: [' + ', '.join(fifth_row) + ']'\n",
    "        return output\n",
    "result1 = data1(csv_file)\n",
    "result2 = data2(csv_file)\n",
    "print(result1)\n",
    "print(result2)"
   ]
  }
 ],
 "metadata": {
  "kernelspec": {
   "display_name": "Python 3 (ipykernel)",
   "language": "python",
   "name": "python3"
  },
  "language_info": {
   "codemirror_mode": {
    "name": "ipython",
    "version": 3
   },
   "file_extension": ".py",
   "mimetype": "text/x-python",
   "name": "python",
   "nbconvert_exporter": "python",
   "pygments_lexer": "ipython3",
   "version": "3.10.9"
  }
 },
 "nbformat": 4,
 "nbformat_minor": 5
}
